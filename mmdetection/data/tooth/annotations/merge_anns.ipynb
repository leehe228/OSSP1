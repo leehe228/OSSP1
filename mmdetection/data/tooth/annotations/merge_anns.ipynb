{
 "cells": [
  {
   "cell_type": "code",
   "execution_count": 1,
   "metadata": {},
   "outputs": [],
   "source": [
    "import json\n",
    "\n",
    "def merge_coco_annotations(input_files, output_file):\n",
    "    merged_data = {\n",
    "        \"images\": [],\n",
    "        \"annotations\": [],\n",
    "        \"categories\": []\n",
    "    }\n",
    "    \n",
    "    image_id_offset = 0\n",
    "    annotation_id_offset = 0\n",
    "    \n",
    "    for input_file in input_files:\n",
    "        with open(input_file, 'r') as f:\n",
    "            data = json.load(f)\n",
    "        \n",
    "        # Update image IDs and annotations with offsets\n",
    "        for image in data['images']:\n",
    "            image['id'] += image_id_offset\n",
    "            merged_data['images'].append(image)\n",
    "        \n",
    "        for annotation in data.get('annotations', []):\n",
    "            annotation['id'] += annotation_id_offset\n",
    "            annotation['image_id'] += image_id_offset\n",
    "            merged_data['annotations'].append(annotation)\n",
    "        \n",
    "        # Update offsets\n",
    "        image_id_offset = max([img['id'] for img in merged_data['images']]) + 1\n",
    "        if merged_data['annotations']:\n",
    "            annotation_id_offset = max([ann['id'] for ann in merged_data['annotations']]) + 1\n",
    "\n",
    "        # Assuming categories are the same across all files\n",
    "        if not merged_data['categories']:\n",
    "            merged_data['categories'] = data.get('categories', [])\n",
    "    \n",
    "    with open(output_file, 'w') as f:\n",
    "        json.dump(merged_data, f, indent=4)"
   ]
  },
  {
   "cell_type": "code",
   "execution_count": 2,
   "metadata": {},
   "outputs": [],
   "source": [
    "merge_coco_annotations(['train1.json', 'train2.json'], 'train.json')"
   ]
  },
  {
   "cell_type": "code",
   "execution_count": 3,
   "metadata": {},
   "outputs": [],
   "source": [
    "merge_coco_annotations(['val1.json', 'valid2.json'], 'val.json')"
   ]
  },
  {
   "cell_type": "code",
   "execution_count": null,
   "metadata": {},
   "outputs": [],
   "source": []
  }
 ],
 "metadata": {
  "kernelspec": {
   "display_name": "openmmlab",
   "language": "python",
   "name": "python3"
  },
  "language_info": {
   "codemirror_mode": {
    "name": "ipython",
    "version": 3
   },
   "file_extension": ".py",
   "mimetype": "text/x-python",
   "name": "python",
   "nbconvert_exporter": "python",
   "pygments_lexer": "ipython3",
   "version": "3.8.19"
  }
 },
 "nbformat": 4,
 "nbformat_minor": 2
}

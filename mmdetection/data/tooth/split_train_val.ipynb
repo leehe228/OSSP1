{
 "cells": [
  {
   "cell_type": "code",
   "execution_count": 40,
   "metadata": {},
   "outputs": [],
   "source": [
    "import os\n",
    "import json\n",
    "\n",
    "opj = os.path.join"
   ]
  },
  {
   "cell_type": "code",
   "execution_count": 41,
   "metadata": {},
   "outputs": [],
   "source": [
    "BASE_DIR = \"C:\\\\Users\\\\uamdt3\\\\Desktop\\\\mmdetection\\\\data\\\\tooth\""
   ]
  },
  {
   "cell_type": "code",
   "execution_count": 42,
   "metadata": {},
   "outputs": [],
   "source": [
    "TRAIN_DIR = opj(BASE_DIR, \"train\")\n",
    "VAL_DIR = opj(BASE_DIR, \"val\")\n",
    "TRAIN_ANN_DIR = opj(BASE_DIR, \"train_xmls\")\n",
    "VAL_ANN_DIR = opj(BASE_DIR, \"val_xmls\")\n",
    "\n",
    "ORIGINAL_DATA_DIR = opj(BASE_DIR, \"images\")\n",
    "ORIGINAL_ANN_DIR = opj(BASE_DIR, \"xmls\")\n",
    "\n",
    "# OUTPUT_FILE = opj(ANN_DIR, \"annotations.json\")"
   ]
  },
  {
   "cell_type": "code",
   "execution_count": 43,
   "metadata": {},
   "outputs": [],
   "source": [
    "from sklearn.model_selection import train_test_split"
   ]
  },
  {
   "cell_type": "code",
   "execution_count": 44,
   "metadata": {},
   "outputs": [
    {
     "name": "stdout",
     "output_type": "stream",
     "text": [
      "84\n",
      "['1.jpg', '10.jpg', '11.jpg', '12.jpg', '13.jpg']\n",
      "85\n",
      "['1.xml', '10.xml', '11.xml', '12.xml', '13.xml']\n"
     ]
    }
   ],
   "source": [
    "image_files = os.listdir(ORIGINAL_DATA_DIR)\n",
    "print(len(image_files)) \n",
    "print(image_files[:5])\n",
    "\n",
    "ann_files = os.listdir(ORIGINAL_ANN_DIR)\n",
    "print(len(ann_files))\n",
    "print(ann_files[:5])"
   ]
  },
  {
   "cell_type": "code",
   "execution_count": 45,
   "metadata": {},
   "outputs": [
    {
     "name": "stdout",
     "output_type": "stream",
     "text": [
      "34.jpg\n",
      "34.xml\n",
      "58.jpg\n",
      "58.xml\n",
      "78.jpg\n",
      "78.xml\n",
      "79.jpg\n",
      "79.xml\n",
      "82.jpg\n",
      "82.xml\n",
      "89.jpg\n",
      "89.xml\n"
     ]
    }
   ],
   "source": [
    "for i in range(1, 91):\n",
    "    if f\"{i}.jpg\" not in image_files:\n",
    "        print(f\"{i}.jpg\")\n",
    "    if f\"{i}.xml\" not in ann_files:\n",
    "        print(f\"{i}.xml\")"
   ]
  },
  {
   "cell_type": "code",
   "execution_count": 46,
   "metadata": {},
   "outputs": [],
   "source": [
    "train_files, val_files = train_test_split(image_files, test_size=0.2, random_state=42)"
   ]
  },
  {
   "cell_type": "code",
   "execution_count": 47,
   "metadata": {},
   "outputs": [
    {
     "name": "stdout",
     "output_type": "stream",
     "text": [
      "67 17\n"
     ]
    }
   ],
   "source": [
    "print(len(train_files), len(val_files))"
   ]
  },
  {
   "cell_type": "code",
   "execution_count": 48,
   "metadata": {},
   "outputs": [],
   "source": [
    "# copy files to train and val directories\n",
    "import shutil\n",
    "\n",
    "for file in train_files:\n",
    "    shutil.copy(opj(ORIGINAL_DATA_DIR, file), opj(TRAIN_DIR, file))\n",
    "    shutil.copy(opj(ORIGINAL_ANN_DIR, file.replace(\".jpg\", \".xml\")), opj(TRAIN_ANN_DIR, file.replace(\".jpg\", \".xml\")))"
   ]
  },
  {
   "cell_type": "code",
   "execution_count": 49,
   "metadata": {},
   "outputs": [],
   "source": [
    "# copy files to train and val directories\n",
    "for file in val_files:\n",
    "    shutil.copy(opj(ORIGINAL_DATA_DIR, file), opj(VAL_DIR, file))\n",
    "    shutil.copy(opj(ORIGINAL_ANN_DIR, file.replace(\".jpg\", \".xml\")), opj(VAL_ANN_DIR, file.replace(\".jpg\", \".xml\")))"
   ]
  },
  {
   "cell_type": "code",
   "execution_count": 50,
   "metadata": {},
   "outputs": [
    {
     "name": "stdout",
     "output_type": "stream",
     "text": [
      "67 17\n"
     ]
    }
   ],
   "source": [
    "print(len(os.listdir(TRAIN_DIR)), len(os.listdir(VAL_DIR)))"
   ]
  },
  {
   "cell_type": "code",
   "execution_count": 51,
   "metadata": {},
   "outputs": [
    {
     "name": "stdout",
     "output_type": "stream",
     "text": [
      "67 17\n"
     ]
    }
   ],
   "source": [
    "print(len(os.listdir(TRAIN_ANN_DIR)), len(os.listdir(VAL_ANN_DIR)))"
   ]
  },
  {
   "cell_type": "code",
   "execution_count": null,
   "metadata": {},
   "outputs": [],
   "source": []
  }
 ],
 "metadata": {
  "kernelspec": {
   "display_name": "openmmlab",
   "language": "python",
   "name": "python3"
  },
  "language_info": {
   "codemirror_mode": {
    "name": "ipython",
    "version": 3
   },
   "file_extension": ".py",
   "mimetype": "text/x-python",
   "name": "python",
   "nbconvert_exporter": "python",
   "pygments_lexer": "ipython3",
   "version": "3.8.19"
  }
 },
 "nbformat": 4,
 "nbformat_minor": 2
}

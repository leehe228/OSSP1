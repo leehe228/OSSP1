{
 "cells": [
  {
   "cell_type": "code",
   "execution_count": 7,
   "metadata": {},
   "outputs": [],
   "source": [
    "import os\n",
    "import json\n",
    "import xml.etree.ElementTree as ET\n",
    "from collections import defaultdict\n",
    "\n",
    "opj = os.path.join"
   ]
  },
  {
   "cell_type": "code",
   "execution_count": 8,
   "metadata": {},
   "outputs": [],
   "source": [
    "BASE_DIR = \"/home/dmsai2/mmdetection/data/tooth\""
   ]
  },
  {
   "cell_type": "code",
   "execution_count": 9,
   "metadata": {},
   "outputs": [],
   "source": [
    "TRAIN_DIR = opj(BASE_DIR, \"train\")\n",
    "VAL_DIR = opj(BASE_DIR, \"val\")\n",
    "ANN_DIR = opj(BASE_DIR, \"annotations\")\n",
    "\n",
    "ORIGINAL_DATA_DIR = opj(BASE_DIR, \"images\")\n",
    "TRAIN_ORG_ANN_DIR = opj(BASE_DIR, \"train_xmls\")\n",
    "VAL_ORG_ANN_DIR = opj(BASE_DIR, \"val_xmls\")\n",
    "\n",
    "TRAIN_OUTPUT_FILE = opj(ANN_DIR, \"train.json\")\n",
    "VAL_OUTPUT_FILE = opj(ANN_DIR, \"val.json\")"
   ]
  },
  {
   "cell_type": "code",
   "execution_count": 14,
   "metadata": {},
   "outputs": [],
   "source": [
    "TEST_DIR = opj(BASE_DIR, \"test\")\n",
    "TEST_ORG_ANN_DIR = opj(BASE_DIR, \"test_xmls\")\n",
    "TEST_OUTPUT_FILE = opj(ANN_DIR, \"test.json\")"
   ]
  },
  {
   "cell_type": "code",
   "execution_count": 15,
   "metadata": {},
   "outputs": [],
   "source": [
    "# Initialize COCO structure\n",
    "coco = {\n",
    "    \"images\": [],\n",
    "    \"annotations\": [],\n",
    "    \"categories\": []\n",
    "}"
   ]
  },
  {
   "cell_type": "code",
   "execution_count": 16,
   "metadata": {},
   "outputs": [],
   "source": [
    "# Initialize category mapping\n",
    "category_mapping = {\n",
    "    \"tooth\": 1,\n",
    "    \"cavity\": 1\n",
    "}"
   ]
  },
  {
   "cell_type": "code",
   "execution_count": 17,
   "metadata": {},
   "outputs": [],
   "source": [
    "# Add the combined category to COCO categories\n",
    "coco['categories'].append({\n",
    "    \"id\": 1,\n",
    "    \"name\": \"tooth\",\n",
    "    \"supercategory\": \"none\"\n",
    "})"
   ]
  },
  {
   "cell_type": "code",
   "execution_count": 18,
   "metadata": {},
   "outputs": [],
   "source": [
    "# Counters for image and annotation IDs\n",
    "image_id = 0\n",
    "annotation_id = 0"
   ]
  },
  {
   "cell_type": "code",
   "execution_count": 19,
   "metadata": {},
   "outputs": [
    {
     "ename": "FileNotFoundError",
     "evalue": "[Errno 2] No such file or directory: '/home/dmsai2/mmdetection/data/tooth/test_xmls'",
     "output_type": "error",
     "traceback": [
      "\u001b[0;31m---------------------------------------------------------------------------\u001b[0m",
      "\u001b[0;31mFileNotFoundError\u001b[0m                         Traceback (most recent call last)",
      "Cell \u001b[0;32mIn[19], line 2\u001b[0m\n\u001b[1;32m      1\u001b[0m \u001b[38;5;66;03m# Parse each XML file\u001b[39;00m\n\u001b[0;32m----> 2\u001b[0m \u001b[38;5;28;01mfor\u001b[39;00m xml_file \u001b[38;5;129;01min\u001b[39;00m \u001b[43mos\u001b[49m\u001b[38;5;241;43m.\u001b[39;49m\u001b[43mlistdir\u001b[49m\u001b[43m(\u001b[49m\u001b[43mTEST_ORG_ANN_DIR\u001b[49m\u001b[43m)\u001b[49m:\n\u001b[1;32m      3\u001b[0m     \u001b[38;5;28;01mif\u001b[39;00m \u001b[38;5;129;01mnot\u001b[39;00m xml_file\u001b[38;5;241m.\u001b[39mendswith(\u001b[38;5;124m'\u001b[39m\u001b[38;5;124m.xml\u001b[39m\u001b[38;5;124m'\u001b[39m):\n\u001b[1;32m      4\u001b[0m         \u001b[38;5;28;01mcontinue\u001b[39;00m\n",
      "\u001b[0;31mFileNotFoundError\u001b[0m: [Errno 2] No such file or directory: '/home/dmsai2/mmdetection/data/tooth/test_xmls'"
     ]
    }
   ],
   "source": [
    "# Parse each XML file\n",
    "for xml_file in os.listdir(TEST_ORG_ANN_DIR):\n",
    "    if not xml_file.endswith('.xml'):\n",
    "        continue\n",
    "    \n",
    "    tree = ET.parse(os.path.join(TEST_ORG_ANN_DIR, xml_file))\n",
    "    root = tree.getroot()\n",
    "    \n",
    "    # Extract image details\n",
    "    filename = root.find('filename').text.replace(\".jpg.jpg\", \".jpg\")\n",
    "    width = int(root.find('size/width').text)\n",
    "    height = int(root.find('size/height').text)\n",
    "    \n",
    "    image_id += 1\n",
    "    coco['images'].append({\n",
    "        \"file_name\": filename,\n",
    "        \"height\": height,\n",
    "        \"width\": width,\n",
    "        \"id\": image_id\n",
    "    })\n",
    "    \n",
    "    # Extract annotations\n",
    "    for obj in root.findall('object'):\n",
    "        category_name = obj.find('name').text\n",
    "        if category_name not in category_mapping:\n",
    "            continue\n",
    "        \n",
    "        xmin = int(obj.find('bndbox/xmin').text)\n",
    "        ymin = int(obj.find('bndbox/ymin').text)\n",
    "        xmax = int(obj.find('bndbox/xmax').text)\n",
    "        ymax = int(obj.find('bndbox/ymax').text)\n",
    "        \n",
    "        o_width = xmax - xmin\n",
    "        o_height = ymax - ymin\n",
    "        \n",
    "        annotation_id += 1\n",
    "        coco['annotations'].append({\n",
    "            \"segmentation\": [],\n",
    "            \"area\": o_width * o_height,\n",
    "            \"iscrowd\": 0,\n",
    "            \"image_id\": image_id,\n",
    "            \"bbox\": [xmin, ymin, o_width, o_height],\n",
    "            \"category_id\": category_mapping[category_name],\n",
    "            \"id\": annotation_id\n",
    "        })"
   ]
  },
  {
   "cell_type": "code",
   "execution_count": 9,
   "metadata": {},
   "outputs": [
    {
     "data": {
      "text/plain": [
       "[{'id': 1, 'name': 'tooth', 'supercategory': 'none'}]"
      ]
     },
     "execution_count": 9,
     "metadata": {},
     "output_type": "execute_result"
    }
   ],
   "source": [
    "coco['categories']"
   ]
  },
  {
   "cell_type": "code",
   "execution_count": 10,
   "metadata": {},
   "outputs": [
    {
     "data": {
      "text/plain": [
       "{'segmentation': [],\n",
       " 'area': 2365,\n",
       " 'iscrowd': 0,\n",
       " 'image_id': 1,\n",
       " 'bbox': [8, 49, 43, 55],\n",
       " 'category_id': 1,\n",
       " 'id': 1}"
      ]
     },
     "execution_count": 10,
     "metadata": {},
     "output_type": "execute_result"
    }
   ],
   "source": [
    "coco['annotations'][0]"
   ]
  },
  {
   "cell_type": "code",
   "execution_count": 11,
   "metadata": {},
   "outputs": [
    {
     "data": {
      "text/plain": [
       "{'file_name': '1.jpg', 'height': 224, 'width': 224, 'id': 1}"
      ]
     },
     "execution_count": 11,
     "metadata": {},
     "output_type": "execute_result"
    }
   ],
   "source": [
    "coco['images'][0]"
   ]
  },
  {
   "cell_type": "code",
   "execution_count": 12,
   "metadata": {},
   "outputs": [
    {
     "name": "stdout",
     "output_type": "stream",
     "text": [
      "17\n"
     ]
    }
   ],
   "source": [
    "print(len(coco['images']))"
   ]
  },
  {
   "cell_type": "markdown",
   "metadata": {},
   "source": [
    "### Save to JSON"
   ]
  },
  {
   "cell_type": "code",
   "execution_count": 13,
   "metadata": {},
   "outputs": [],
   "source": [
    "# Save to COCO JSON\n",
    "with open(VAL_OUTPUT_FILE, 'w') as f:\n",
    "    json.dump(coco, f, indent=4)"
   ]
  },
  {
   "cell_type": "code",
   "execution_count": null,
   "metadata": {},
   "outputs": [],
   "source": []
  }
 ],
 "metadata": {
  "kernelspec": {
   "display_name": "openmmlab",
   "language": "python",
   "name": "python3"
  },
  "language_info": {
   "codemirror_mode": {
    "name": "ipython",
    "version": 3
   },
   "file_extension": ".py",
   "mimetype": "text/x-python",
   "name": "python",
   "nbconvert_exporter": "python",
   "pygments_lexer": "ipython3",
   "version": "3.8.19"
  }
 },
 "nbformat": 4,
 "nbformat_minor": 2
}
